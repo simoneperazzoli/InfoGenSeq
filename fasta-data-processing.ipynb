{
 "cells": [
  {
   "cell_type": "markdown",
   "metadata": {},
   "source": [
    "## Using Biopython library"
   ]
  },
  {
   "cell_type": "code",
   "execution_count": 1,
   "metadata": {},
   "outputs": [],
   "source": [
    "# Import parts of Biopython\n",
    "from Bio import SeqIO"
   ]
  },
  {
   "cell_type": "markdown",
   "metadata": {},
   "source": [
    "### Open and reading Reference sequence"
   ]
  },
  {
   "cell_type": "code",
   "execution_count": 2,
   "metadata": {},
   "outputs": [
    {
     "name": "stdout",
     "output_type": "stream",
     "text": [
      "----------------------------------------------------------\n",
      "Processing the record NC_045512:\n",
      "Its description is: \n",
      "NC_045512 |Severe acute respiratory syndrome coronavirus 2 isolate Wuhan-Hu-1| complete genome|refseq| complete|China\n",
      "Its sequence contains 29903 nucleotides.\n"
     ]
    }
   ],
   "source": [
    "# File path to your FASTA file\n",
    "path_to_file = 'sequence_ref.fasta'   # <--- substitute by your local path\n",
    "\n",
    "# Open file with \"with\" statement to avoid problems with access \n",
    "# to original file (in case computer hangs\n",
    "# or there will be any other problem)\n",
    "with open(path_to_file, mode='r') as handle:\n",
    "\n",
    "    # Use Biopython's parse function to process individual\n",
    "    # FASTA records (thus reducing memory footprint)\n",
    "    for record in SeqIO.parse(handle, 'fasta'):\n",
    "\n",
    "        # Extract individual parts of the FASTA record\n",
    "        identifier_ref = record.id\n",
    "        description_ref = record.description\n",
    "        sequence_ref = record.seq\n",
    "\n",
    "        # Example: adapt to extract features you are interested in\n",
    "        print('----------------------------------------------------------')\n",
    "        print('Processing the record {}:'.format(identifier_ref))\n",
    "        print('Its description is: \\n{}'.format(description_ref))\n",
    "        amount_of_nucleotides_ref = len(sequence_ref)\n",
    "        print('Its sequence contains {} nucleotides.'.format(amount_of_nucleotides_ref))"
   ]
  },
  {
   "cell_type": "markdown",
   "metadata": {},
   "source": [
    "### Open and reading Sequences around the world"
   ]
  },
  {
   "cell_type": "code",
   "execution_count": 3,
   "metadata": {},
   "outputs": [
    {
     "name": "stdout",
     "output_type": "stream",
     "text": [
      "----------------------------------------------------------\n",
      "Processing the record MT192759:\n",
      "Its description is: \n",
      "MT192759 |Severe acute respiratory syndrome coronavirus 2 isolate SARS-CoV-2/CGMH-CGU-01/human2020/TWN| complete genome|complete|Taiwan\n",
      "Its sequence contains 29862 nucleotides.\n",
      "----------------------------------------------------------\n",
      "Processing the record MT192765:\n",
      "Its description is: \n",
      "MT192765 |Severe acute respiratory syndrome coronavirus 2 isolate SARS-CoV-2/PC00101P/human/2020/USA| complete genome|complete|USA\n",
      "Its sequence contains 29829 nucleotides.\n",
      "----------------------------------------------------------\n",
      "Processing the record MT192772:\n",
      "Its description is: \n",
      "MT192772 |Severe acute respiratory syndrome coronavirus 2 isolate SARS-CoV-2/nCoV-19-01S/human/2020/VNM| complete genome|complete|Viet Nam\n",
      "Its sequence contains 29891 nucleotides.\n",
      "----------------------------------------------------------\n",
      "Processing the record MT192773:\n",
      "Its description is: \n",
      "MT192773 |Severe acute respiratory syndrome coronavirus 2 isolate SARS-CoV-2/nCoV-19-02S/human/2020/VNM| complete genome|complete|Viet Nam\n",
      "Its sequence contains 29890 nucleotides.\n",
      "----------------------------------------------------------\n",
      "Processing the record MT188341:\n",
      "Its description is: \n",
      "MT188341 |Severe acute respiratory syndrome coronavirus 2 isolate USA/MN1-MDH1/2020| complete genome|complete|USA\n",
      "Its sequence contains 29835 nucleotides.\n",
      "----------------------------------------------------------\n",
      "Processing the record MT188339:\n",
      "Its description is: \n",
      "MT188339 |Severe acute respiratory syndrome coronavirus 2 isolate USA/MN3-MDH3/2020| complete genome|complete|USA\n",
      "Its sequence contains 29783 nucleotides.\n",
      "----------------------------------------------------------\n",
      "Processing the record MT188340:\n",
      "Its description is: \n",
      "MT188340 |Severe acute respiratory syndrome coronavirus 2 isolate USA/MN2-MDH2/2020| complete genome|complete|USA\n",
      "Its sequence contains 29845 nucleotides.\n",
      "----------------------------------------------------------\n",
      "Processing the record MT184909:\n",
      "Its description is: \n",
      "MT184909 |Severe acute respiratory syndrome coronavirus 2 isolate 2019-nCoV/USA-CruiseA-22/2020| complete genome|complete|USA\n",
      "Its sequence contains 29882 nucleotides.\n",
      "----------------------------------------------------------\n",
      "Processing the record MT184908:\n",
      "Its description is: \n",
      "MT184908 |Severe acute respiratory syndrome coronavirus 2 isolate 2019-nCoV/USA-CruiseA-21/2020| complete genome|complete|USA\n",
      "Its sequence contains 29880 nucleotides.\n",
      "----------------------------------------------------------\n",
      "Processing the record MT184911:\n",
      "Its description is: \n",
      "MT184911 |Severe acute respiratory syndrome coronavirus 2 isolate 2019-nCoV/USA-CruiseA-24/2020| complete genome|complete|USA\n",
      "Its sequence contains 29882 nucleotides.\n",
      "----------------------------------------------------------\n",
      "Processing the record MT184913:\n",
      "Its description is: \n",
      "MT184913 |Severe acute respiratory syndrome coronavirus 2 isolate 2019-nCoV/USA-CruiseA-26/2020| complete genome|complete|USA\n",
      "Its sequence contains 29882 nucleotides.\n",
      "----------------------------------------------------------\n",
      "Processing the record MT184907:\n",
      "Its description is: \n",
      "MT184907 |Severe acute respiratory syndrome coronavirus 2 isolate 2019-nCoV/USA-CruiseA-19/2020| complete genome|complete|USA\n",
      "Its sequence contains 29882 nucleotides.\n",
      "----------------------------------------------------------\n",
      "Processing the record MT184912:\n",
      "Its description is: \n",
      "MT184912 |Severe acute respiratory syndrome coronavirus 2 isolate 2019-nCoV/USA-CruiseA-25/2020| complete genome|complete|USA\n",
      "Its sequence contains 29882 nucleotides.\n",
      "----------------------------------------------------------\n",
      "Processing the record MT184910:\n",
      "Its description is: \n",
      "MT184910 |Severe acute respiratory syndrome coronavirus 2 isolate 2019-nCoV/USA-CruiseA-23/2020| complete genome|complete|USA\n",
      "Its sequence contains 29882 nucleotides.\n",
      "----------------------------------------------------------\n",
      "Processing the record MT163718:\n",
      "Its description is: \n",
      "MT163718 |Severe acute respiratory syndrome coronavirus 2 isolate SARS-CoV-2/WA6-UW3/human/2020/USA| complete genome|complete|USA\n",
      "Its sequence contains 29903 nucleotides.\n",
      "----------------------------------------------------------\n",
      "Processing the record MT163719:\n",
      "Its description is: \n",
      "MT163719 |Severe acute respiratory syndrome coronavirus 2 isolate SARS-CoV-2/WA7-UW4/human/2020/USA| complete genome|complete|USA\n",
      "Its sequence contains 29903 nucleotides.\n",
      "----------------------------------------------------------\n",
      "Processing the record MT163716:\n",
      "Its description is: \n",
      "MT163716 |Severe acute respiratory syndrome coronavirus 2 isolate SARS-CoV-2/WA3-UW1/human/2020/USA| complete genome|complete|USA\n",
      "Its sequence contains 29903 nucleotides.\n",
      "----------------------------------------------------------\n",
      "Processing the record MT163717:\n",
      "Its description is: \n",
      "MT163717 |Severe acute respiratory syndrome coronavirus 2 isolate SARS-CoV-2/WA4-UW2/human/2020/USA| complete genome|complete|USA\n",
      "Its sequence contains 29897 nucleotides.\n",
      "----------------------------------------------------------\n",
      "Processing the record MT159714:\n",
      "Its description is: \n",
      "MT159714 |Severe acute respiratory syndrome coronavirus 2 isolate 2019-nCoV/USA-CruiseA-16/2020| complete genome|complete|USA\n",
      "Its sequence contains 29882 nucleotides.\n",
      "----------------------------------------------------------\n",
      "Processing the record MT159718:\n",
      "Its description is: \n",
      "MT159718 |Severe acute respiratory syndrome coronavirus 2 isolate 2019-nCoV/USA-CruiseA-2/2020| complete genome|complete|USA\n",
      "Its sequence contains 29882 nucleotides.\n",
      "----------------------------------------------------------\n",
      "Processing the record MT159717:\n",
      "Its description is: \n",
      "MT159717 |Severe acute respiratory syndrome coronavirus 2 isolate 2019-nCoV/USA-CruiseA-1/2020| complete genome|complete|USA\n",
      "Its sequence contains 29882 nucleotides.\n",
      "----------------------------------------------------------\n",
      "Processing the record MT159713:\n",
      "Its description is: \n",
      "MT159713 |Severe acute respiratory syndrome coronavirus 2 isolate 2019-nCoV/USA-CruiseA-15/2020| complete genome|complete|USA\n",
      "Its sequence contains 29882 nucleotides.\n",
      "----------------------------------------------------------\n",
      "Processing the record MT159720:\n",
      "Its description is: \n",
      "MT159720 |Severe acute respiratory syndrome coronavirus 2 isolate 2019-nCoV/USA-CruiseA-4/2020| complete genome|complete|USA\n",
      "Its sequence contains 29882 nucleotides.\n",
      "----------------------------------------------------------\n",
      "Processing the record MT159721:\n",
      "Its description is: \n",
      "MT159721 |Severe acute respiratory syndrome coronavirus 2 isolate 2019-nCoV/USA-CruiseA-5/2020| complete genome|complete|USA\n",
      "Its sequence contains 29882 nucleotides.\n",
      "----------------------------------------------------------\n",
      "Processing the record MT159709:\n",
      "Its description is: \n",
      "MT159709 |Severe acute respiratory syndrome coronavirus 2 isolate 2019-nCoV/USA-CruiseA-12/2020| complete genome|complete|USA\n",
      "Its sequence contains 29882 nucleotides.\n",
      "----------------------------------------------------------\n",
      "Processing the record MT121215:\n",
      "Its description is: \n",
      "MT121215 |Severe acute respiratory syndrome coronavirus 2 isolate SARS-CoV-2/SH01/human/2020/CHN| complete genome|complete|China\n",
      "Its sequence contains 29945 nucleotides.\n",
      "----------------------------------------------------------\n",
      "Processing the record MT159708:\n",
      "Its description is: \n",
      "MT159708 |Severe acute respiratory syndrome coronavirus 2 isolate 2019-nCoV/USA-CruiseA-11/2020| complete genome|complete|USA\n",
      "Its sequence contains 29882 nucleotides.\n",
      "----------------------------------------------------------\n",
      "Processing the record MT159712:\n",
      "Its description is: \n",
      "MT159712 |Severe acute respiratory syndrome coronavirus 2 isolate 2019-nCoV/USA-CruiseA-14/2020| complete genome|complete|USA\n",
      "Its sequence contains 29882 nucleotides.\n",
      "----------------------------------------------------------\n",
      "Processing the record MT159719:\n",
      "Its description is: \n",
      "MT159719 |Severe acute respiratory syndrome coronavirus 2 isolate 2019-nCoV/USA-CruiseA-3/2020| complete genome|complete|USA\n",
      "Its sequence contains 29882 nucleotides.\n",
      "----------------------------------------------------------\n",
      "Processing the record MT066156:\n",
      "Its description is: \n",
      "MT066156 |Severe acute respiratory syndrome coronavirus 2 isolate SARS-CoV-2/INMI1/human/2020/ITA| complete genome|complete|Italy\n",
      "Its sequence contains 29867 nucleotides.\n",
      "----------------------------------------------------------\n",
      "Processing the record MT159711:\n",
      "Its description is: \n",
      "MT159711 |Severe acute respiratory syndrome coronavirus 2 isolate 2019-nCoV/USA-CruiseA-13/2020| complete genome|complete|USA\n",
      "Its sequence contains 29882 nucleotides.\n",
      "----------------------------------------------------------\n",
      "Processing the record MT159707:\n",
      "Its description is: \n",
      "MT159707 |Severe acute respiratory syndrome coronavirus 2 isolate 2019-nCoV/USA-CruiseA-10/2020| complete genome|complete|USA\n",
      "Its sequence contains 29882 nucleotides.\n",
      "----------------------------------------------------------\n",
      "Processing the record MT159705:\n",
      "Its description is: \n",
      "MT159705 |Severe acute respiratory syndrome coronavirus 2 isolate 2019-nCoV/USA-CruiseA-7/2020| complete genome|complete|USA\n",
      "Its sequence contains 29882 nucleotides.\n",
      "----------------------------------------------------------\n",
      "Processing the record MT159710:\n",
      "Its description is: \n",
      "MT159710 |Severe acute respiratory syndrome coronavirus 2 isolate 2019-nCoV/USA-CruiseA-9/2020| complete genome|complete|USA\n",
      "Its sequence contains 29882 nucleotides.\n",
      "----------------------------------------------------------\n",
      "Processing the record MT159715:\n",
      "Its description is: \n",
      "MT159715 |Severe acute respiratory syndrome coronavirus 2 isolate 2019-nCoV/USA-CruiseA-17/2020| complete genome|complete|USA\n",
      "Its sequence contains 29882 nucleotides.\n",
      "----------------------------------------------------------\n",
      "Processing the record MT159716:\n",
      "Its description is: \n",
      "MT159716 |Severe acute respiratory syndrome coronavirus 2 isolate 2019-nCoV/USA-CruiseA-18/2020| complete genome|complete|USA\n",
      "Its sequence contains 29867 nucleotides.\n",
      "----------------------------------------------------------\n",
      "Processing the record MT159722:\n",
      "Its description is: \n",
      "MT159722 |Severe acute respiratory syndrome coronavirus 2 isolate 2019-nCoV/USA-CruiseA-6/2020| complete genome|complete|USA\n",
      "Its sequence contains 29882 nucleotides.\n",
      "----------------------------------------------------------\n",
      "Processing the record MT159706:\n",
      "Its description is: \n",
      "MT159706 |Severe acute respiratory syndrome coronavirus 2 isolate 2019-nCoV/USA-CruiseA-8/2020| complete genome|complete|USA\n",
      "Its sequence contains 29882 nucleotides.\n",
      "----------------------------------------------------------\n",
      "Processing the record MT012098:\n",
      "Its description is: \n",
      "MT012098 |Severe acute respiratory syndrome coronavirus 2 isolate SARS-CoV-2/29/human/2020/IND| complete genome|complete|India\n",
      "Its sequence contains 29854 nucleotides.\n",
      "----------------------------------------------------------\n",
      "Processing the record MT050493:\n",
      "Its description is: \n",
      "MT050493 |Severe acute respiratory syndrome coronavirus 2 isolate SARS-CoV-2/166/human/2020/IND| complete genome|complete|India\n",
      "Its sequence contains 29851 nucleotides.\n",
      "----------------------------------------------------------\n",
      "Processing the record MT152824:\n",
      "Its description is: \n",
      "MT152824 |Severe acute respiratory syndrome coronavirus 2 isolate SARS-CoV-2/WA2/human/2020/USA| complete genome|complete|USA\n",
      "Its sequence contains 29878 nucleotides.\n",
      "----------------------------------------------------------\n",
      "Processing the record MT135041:\n",
      "Its description is: \n",
      "MT135041 |Severe acute respiratory syndrome coronavirus 2 isolate SARS-CoV-2/105/human/2020/CHN| complete genome|complete|China\n",
      "Its sequence contains 29903 nucleotides.\n",
      "----------------------------------------------------------\n",
      "Processing the record MT135043:\n",
      "Its description is: \n",
      "MT135043 |Severe acute respiratory syndrome coronavirus 2 isolate SARS-CoV-2/233/human/2020/CHN| complete genome|complete|China\n",
      "Its sequence contains 29903 nucleotides.\n",
      "----------------------------------------------------------\n",
      "Processing the record MT135044:\n",
      "Its description is: \n",
      "MT135044 |Severe acute respiratory syndrome coronavirus 2 isolate SARS-CoV-2/235/human/2020/CHN| complete genome|complete|China\n",
      "Its sequence contains 29903 nucleotides.\n",
      "----------------------------------------------------------\n",
      "Processing the record MT135042:\n",
      "Its description is: \n",
      "MT135042 |Severe acute respiratory syndrome coronavirus 2 isolate SARS-CoV-2/231/human/2020/CHN| complete genome|complete|China\n",
      "Its sequence contains 29903 nucleotides.\n",
      "----------------------------------------------------------\n",
      "Processing the record MT126808:\n",
      "Its description is: \n",
      "MT126808 |Severe acute respiratory syndrome coronavirus 2 isolate SARS-CoV-2/SP02/human/2020/BRA| complete genome|complete|Brazil\n",
      "Its sequence contains 29876 nucleotides.\n",
      "----------------------------------------------------------\n",
      "Processing the record MT123290:\n",
      "Its description is: \n",
      "MT123290 |Severe acute respiratory syndrome coronavirus 2 isolate SARS-CoV-2/IQTC01/human/2020/CHN| complete genome|complete|China\n",
      "Its sequence contains 29891 nucleotides.\n",
      "----------------------------------------------------------\n",
      "Processing the record MT123293:\n",
      "Its description is: \n",
      "MT123293 |Severe acute respiratory syndrome coronavirus 2 isolate SARS-CoV-2/IQTC03/human/2020/CHN| complete genome|complete|China\n",
      "Its sequence contains 29871 nucleotides.\n",
      "----------------------------------------------------------\n",
      "Processing the record MT123292:\n",
      "Its description is: \n",
      "MT123292 |Severe acute respiratory syndrome coronavirus 2 isolate SARS-CoV-2/IQTC04/human/2020/CHN| complete genome|complete|China\n",
      "Its sequence contains 29923 nucleotides.\n",
      "----------------------------------------------------------\n",
      "Processing the record MT123291:\n",
      "Its description is: \n",
      "MT123291 |Severe acute respiratory syndrome coronavirus 2 isolate SARS-CoV-2/IQTC02/human/2020/CHN| complete genome|complete|China\n",
      "Its sequence contains 29882 nucleotides.\n",
      "----------------------------------------------------------\n",
      "Processing the record MT118835:\n",
      "Its description is: \n",
      "MT118835 |Severe acute respiratory syndrome coronavirus 2 isolate 2019-nCoV/USA-CA9/2020| complete genome|complete|USA\n",
      "Its sequence contains 29882 nucleotides.\n",
      "----------------------------------------------------------\n",
      "Processing the record MT106054:\n",
      "Its description is: \n",
      "MT106054 |Severe acute respiratory syndrome coronavirus 2 isolate 2019-nCoV/USA-TX1/2020| complete genome|complete|USA\n",
      "Its sequence contains 29882 nucleotides.\n",
      "----------------------------------------------------------\n",
      "Processing the record MT106053:\n",
      "Its description is: \n",
      "MT106053 |Severe acute respiratory syndrome coronavirus 2 isolate 2019-nCoV/USA-CA8/2020| complete genome|complete|USA\n",
      "Its sequence contains 29882 nucleotides.\n",
      "----------------------------------------------------------\n",
      "Processing the record MT106052:\n",
      "Its description is: \n",
      "MT106052 |Severe acute respiratory syndrome coronavirus 2 isolate 2019-nCoV/USA-CA7/2020| complete genome|complete|USA\n",
      "Its sequence contains 29882 nucleotides.\n",
      "----------------------------------------------------------\n",
      "Processing the record MT093571:\n",
      "Its description is: \n",
      "MT093571 |Severe acute respiratory syndrome coronavirus 2 isolate SARS-CoV-2/01/human/2020/SWE| complete genome|complete|Sweden\n",
      "Its sequence contains 29886 nucleotides.\n",
      "----------------------------------------------------------\n",
      "Processing the record MT093631:\n",
      "Its description is: \n",
      "MT093631 |Severe acute respiratory syndrome coronavirus 2 isolate SARS-CoV-2/WH-09/human/2020/CHN| complete genome|complete|China\n",
      "Its sequence contains 29860 nucleotides.\n",
      "----------------------------------------------------------\n",
      "Processing the record MT072688:\n",
      "Its description is: \n",
      "MT072688 |Severe acute respiratory syndrome coronavirus 2 isolate SARS0CoV-2/61-TW/human/2020/ NPL| complete genome|complete|Nepal\n",
      "Its sequence contains 29811 nucleotides.\n",
      "----------------------------------------------------------\n",
      "Processing the record MT066175:\n",
      "Its description is: \n",
      "MT066175 |Severe acute respiratory syndrome coronavirus 2 isolate SARS-CoV-2/NTU01/2020/TWN| complete genome|complete|Taiwan\n",
      "Its sequence contains 29870 nucleotides.\n",
      "----------------------------------------------------------\n",
      "Processing the record MT066176:\n",
      "Its description is: \n",
      "MT066176 |Severe acute respiratory syndrome coronavirus 2 isolate SARS-CoV-2/NTU02/2020/TWN| complete genome|complete|Taiwan\n",
      "Its sequence contains 29870 nucleotides.\n",
      "----------------------------------------------------------\n",
      "Processing the record MT049951:\n",
      "Its description is: \n",
      "MT049951 |Severe acute respiratory syndrome coronavirus 2 isolate SARS-CoV-2/Yunnan-01/human/2020/CHN| complete genome|complete|China\n",
      "Its sequence contains 29903 nucleotides.\n",
      "----------------------------------------------------------\n",
      "Processing the record MT044257:\n",
      "Its description is: \n",
      "MT044257 |Severe acute respiratory syndrome coronavirus 2 isolate 2019-nCoV/USA-IL2/2020| complete genome|complete|USA\n",
      "Its sequence contains 29882 nucleotides.\n",
      "----------------------------------------------------------\n",
      "Processing the record MT044258:\n",
      "Its description is: \n",
      "MT044258 |Severe acute respiratory syndrome coronavirus 2 isolate 2019-nCoV/USA-CA6/2020| complete genome|complete|USA\n",
      "Its sequence contains 29858 nucleotides.\n",
      "----------------------------------------------------------\n",
      "Processing the record MT039888:\n",
      "Its description is: \n",
      "MT039888 |Severe acute respiratory syndrome coronavirus 2 isolate 2019-nCoV/USA-MA1/2020| complete genome|complete|USA\n",
      "Its sequence contains 29882 nucleotides.\n",
      "----------------------------------------------------------\n",
      "Processing the record MT039890:\n",
      "Its description is: \n",
      "MT039890 |Severe acute respiratory syndrome coronavirus 2 isolate SNU01| complete genome|complete|South Korea\n",
      "Its sequence contains 29903 nucleotides.\n",
      "----------------------------------------------------------\n",
      "Processing the record MT039887:\n",
      "Its description is: \n",
      "MT039887 |Severe acute respiratory syndrome coronavirus 2 isolate 2019-nCoV/USA-WI1/2020| complete genome|complete|USA\n",
      "Its sequence contains 29879 nucleotides.\n",
      "----------------------------------------------------------\n",
      "Processing the record MT039873:\n",
      "Its description is: \n",
      "MT039873 |Severe acute respiratory syndrome coronavirus 2 isolate HZ-1| complete genome|complete|China\n",
      "Its sequence contains 29833 nucleotides.\n",
      "----------------------------------------------------------\n",
      "Processing the record MT027063:\n",
      "Its description is: \n",
      "MT027063 |Severe acute respiratory syndrome coronavirus 2 isolate 2019-nCoV/USA-CA4/2020| complete genome|complete|USA\n",
      "Its sequence contains 29882 nucleotides.\n",
      "----------------------------------------------------------\n",
      "Processing the record MT027062:\n",
      "Its description is: \n",
      "MT027062 |Severe acute respiratory syndrome coronavirus 2 isolate 2019-nCoV/USA-CA3/2020| complete genome|complete|USA\n",
      "Its sequence contains 29882 nucleotides.\n",
      "----------------------------------------------------------\n",
      "Processing the record MT027064:\n",
      "Its description is: \n",
      "MT027064 |Severe acute respiratory syndrome coronavirus 2 isolate 2019-nCoV/USA-CA5/2020| complete genome|complete|USA\n",
      "Its sequence contains 29882 nucleotides.\n",
      "----------------------------------------------------------\n",
      "Processing the record MT020880:\n",
      "Its description is: \n",
      "MT020880 |Severe acute respiratory syndrome coronavirus 2 isolate 2019-nCoV/USA-WA1-A12/2020| complete genome|complete|USA\n",
      "Its sequence contains 29882 nucleotides.\n",
      "----------------------------------------------------------\n",
      "Processing the record MT019531:\n",
      "Its description is: \n",
      "MT019531 |Severe acute respiratory syndrome coronavirus 2 isolate BetaCoV/Wuhan/IPBCAMS-WH-03/2019| complete genome|complete|China\n",
      "Its sequence contains 29899 nucleotides.\n",
      "----------------------------------------------------------\n",
      "Processing the record MT019530:\n",
      "Its description is: \n",
      "MT019530 |Severe acute respiratory syndrome coronavirus 2 isolate BetaCoV/Wuhan/IPBCAMS-WH-02/2019| complete genome|complete|China\n",
      "Its sequence contains 29889 nucleotides.\n",
      "----------------------------------------------------------\n",
      "Processing the record MT019529:\n",
      "Its description is: \n",
      "MT019529 |Severe acute respiratory syndrome coronavirus 2 isolate BetaCoV/Wuhan/IPBCAMS-WH-01/2019| complete genome|complete|China\n",
      "Its sequence contains 29899 nucleotides.\n",
      "----------------------------------------------------------\n",
      "Processing the record MT019533:\n",
      "Its description is: \n",
      "MT019533 |Severe acute respiratory syndrome coronavirus 2 isolate BetaCoV/Wuhan/IPBCAMS-WH-05/2020| complete genome|complete|China\n",
      "Its sequence contains 29883 nucleotides.\n",
      "----------------------------------------------------------\n",
      "Processing the record MT019532:\n",
      "Its description is: \n",
      "MT019532 |Severe acute respiratory syndrome coronavirus 2 isolate BetaCoV/Wuhan/IPBCAMS-WH-04/2019| complete genome|complete|China\n",
      "Its sequence contains 29890 nucleotides.\n",
      "----------------------------------------------------------\n",
      "Processing the record MT020881:\n",
      "Its description is: \n",
      "MT020881 |Severe acute respiratory syndrome coronavirus 2 isolate 2019-nCoV/USA-WA1-F6/2020| complete genome|complete|USA\n",
      "Its sequence contains 29882 nucleotides.\n",
      "----------------------------------------------------------\n",
      "Processing the record MT007544:\n",
      "Its description is: \n",
      "MT007544 |Severe acute respiratory syndrome coronavirus 2 isolate Australia/VIC01/2020| complete genome|complete|Australia\n",
      "Its sequence contains 29893 nucleotides.\n",
      "----------------------------------------------------------\n",
      "Processing the record MN996528:\n",
      "Its description is: \n",
      "MN996528 |Severe acute respiratory syndrome coronavirus 2 isolate WIV04| complete genome|complete|China\n",
      "Its sequence contains 29891 nucleotides.\n",
      "----------------------------------------------------------\n",
      "Processing the record MN996529:\n",
      "Its description is: \n",
      "MN996529 |Severe acute respiratory syndrome coronavirus 2 isolate WIV05| complete genome|complete|China\n",
      "Its sequence contains 29852 nucleotides.\n",
      "----------------------------------------------------------\n",
      "Processing the record MN996530:\n",
      "Its description is: \n",
      "MN996530 |Severe acute respiratory syndrome coronavirus 2 isolate WIV06| complete genome|complete|China\n",
      "Its sequence contains 29854 nucleotides.\n",
      "----------------------------------------------------------\n",
      "Processing the record MN996527:\n",
      "Its description is: \n",
      "MN996527 |Severe acute respiratory syndrome coronavirus 2 isolate WIV02| complete genome|complete|China\n",
      "Its sequence contains 29825 nucleotides.\n",
      "----------------------------------------------------------\n",
      "Processing the record MN996531:\n",
      "Its description is: \n",
      "MN996531 |Severe acute respiratory syndrome coronavirus 2 isolate WIV07| complete genome|complete|China\n",
      "Its sequence contains 29857 nucleotides.\n",
      "----------------------------------------------------------\n",
      "Processing the record MN994467:\n",
      "Its description is: \n",
      "MN994467 |Severe acute respiratory syndrome coronavirus 2 isolate 2019-nCoV/USA-CA1/2020| complete genome|complete|USA\n",
      "Its sequence contains 29882 nucleotides.\n",
      "----------------------------------------------------------\n",
      "Processing the record MN994468:\n",
      "Its description is: \n",
      "MN994468 |Severe acute respiratory syndrome coronavirus 2 isolate 2019-nCoV/USA-CA2/2020| complete genome|complete|USA\n",
      "Its sequence contains 29883 nucleotides.\n",
      "----------------------------------------------------------\n",
      "Processing the record MN988668:\n",
      "Its description is: \n",
      "MN988668 |Severe acute respiratory syndrome coronavirus 2 isolate 2019-nCoV WHU01| complete genome|complete|China\n",
      "Its sequence contains 29881 nucleotides.\n",
      "----------------------------------------------------------\n",
      "Processing the record MN988669:\n",
      "Its description is: \n",
      "MN988669 |Severe acute respiratory syndrome coronavirus 2 isolate 2019-nCoV WHU02| complete genome|complete|China\n",
      "Its sequence contains 29881 nucleotides.\n",
      "----------------------------------------------------------\n",
      "Processing the record MN997409:\n",
      "Its description is: \n",
      "MN997409 |Severe acute respiratory syndrome coronavirus 2 isolate 2019-nCoV/USA-AZ1/2020| complete genome|complete|USA\n",
      "Its sequence contains 29882 nucleotides.\n",
      "----------------------------------------------------------\n",
      "Processing the record MN988713:\n",
      "Its description is: \n",
      "MN988713 |Severe acute respiratory syndrome coronavirus 2 isolate 2019-nCoV/USA-IL1/2020| complete genome|complete|USA\n",
      "Its sequence contains 29882 nucleotides.\n",
      "----------------------------------------------------------\n",
      "Processing the record MN975262:\n",
      "Its description is: \n",
      "MN975262 |Severe acute respiratory syndrome coronavirus 2 isolate 2019-nCoV_HKU-SZ-005b_2020| complete genome|complete|China\n",
      "Its sequence contains 29891 nucleotides.\n",
      "----------------------------------------------------------\n",
      "Processing the record MN938384:\n",
      "Its description is: \n",
      "MN938384 |Severe acute respiratory syndrome coronavirus 2 isolate 2019-nCoV_HKU-SZ-002a_2020| complete genome|complete|China\n",
      "Its sequence contains 29838 nucleotides.\n",
      "----------------------------------------------------------\n",
      "Processing the record MN985325:\n",
      "Its description is: \n",
      "MN985325 |Severe acute respiratory syndrome coronavirus 2 isolate 2019-nCoV/USA-WA1/2020| complete genome|complete|USA\n",
      "Its sequence contains 29882 nucleotides.\n",
      "----------------------------------------------------------\n",
      "Processing the record MN908947:\n",
      "Its description is: \n",
      "MN908947 |Severe acute respiratory syndrome coronavirus 2 isolate Wuhan-Hu-1| complete genome|complete|China\n",
      "Its sequence contains 29903 nucleotides.\n"
     ]
    }
   ],
   "source": [
    "# File path to your FASTA file\n",
    "path_to_file = 'sequences.fasta'   # <--- substitute by your local path\n",
    "\n",
    "# Open file with \"with\" statement to avoid problems with access \n",
    "# to original file (in case computer hangs\n",
    "# or there will be any other problem)\n",
    "with open(path_to_file, mode='r') as handle:\n",
    "\n",
    "    # Use Biopython's parse function to process individual\n",
    "    # FASTA records (thus reducing memory footprint)\n",
    "    for record in SeqIO.parse(handle, 'fasta'):\n",
    "\n",
    "        # Extract individual parts of the FASTA record\n",
    "        identifier = record.id\n",
    "        description = record.description\n",
    "        sequence = record.seq\n",
    "\n",
    "        # Example: adapt to extract features you are interested in\n",
    "        print('----------------------------------------------------------')\n",
    "        print('Processing the record {}:'.format(identifier))\n",
    "        print('Its description is: \\n{}'.format(description))\n",
    "        amount_of_nucleotides = len(sequence)\n",
    "        print('Its sequence contains {} nucleotides.'.format(amount_of_nucleotides))"
   ]
  },
  {
   "cell_type": "markdown",
   "metadata": {},
   "source": [
    "### Counting number of complete sequences recorded"
   ]
  },
  {
   "cell_type": "code",
   "execution_count": 4,
   "metadata": {},
   "outputs": [
    {
     "name": "stdout",
     "output_type": "stream",
     "text": [
      "There were 92 records in file sequences.fasta\n"
     ]
    }
   ],
   "source": [
    "filename = \"sequences.fasta\"\n",
    "count = 0\n",
    "for record in SeqIO.parse(filename, \"fasta\"):\n",
    "    count = count + 1\n",
    "print(\"There were \" + str(count) + \" records in file \" + filename)"
   ]
  },
  {
   "cell_type": "markdown",
   "metadata": {},
   "source": [
    "## Using pyfastx library"
   ]
  },
  {
   "cell_type": "code",
   "execution_count": 5,
   "metadata": {},
   "outputs": [],
   "source": [
    "import pyfastx"
   ]
  },
  {
   "cell_type": "markdown",
   "metadata": {},
   "source": [
    "### Open and reading Reference sequence"
   ]
  },
  {
   "cell_type": "code",
   "execution_count": 6,
   "metadata": {},
   "outputs": [
    {
     "name": "stdout",
     "output_type": "stream",
     "text": [
      "NC_045512\n",
      "NC_045512 |Severe acute respiratory syndrome coronavirus 2 isolate Wuhan-Hu-1| complete genome|refseq| complete|China\n"
     ]
    }
   ],
   "source": [
    "for seq in pyfastx.Fasta('sequence_ref.fasta'):\n",
    "    print(seq.name)\n",
    "    #print(seq.seq)\n",
    "    print(seq.description)"
   ]
  },
  {
   "cell_type": "markdown",
   "metadata": {},
   "source": [
    "### Open and reading Sequences around the world"
   ]
  },
  {
   "cell_type": "code",
   "execution_count": 7,
   "metadata": {},
   "outputs": [
    {
     "data": {
      "text/plain": [
       "<Fasta> sequences.fasta contains 92 sequences"
      ]
     },
     "execution_count": 7,
     "metadata": {},
     "output_type": "execute_result"
    }
   ],
   "source": [
    "fa = pyfastx.Fasta('sequences.fasta')\n",
    "fa"
   ]
  },
  {
   "cell_type": "code",
   "execution_count": 8,
   "metadata": {},
   "outputs": [
    {
     "name": "stdout",
     "output_type": "stream",
     "text": [
      "MT192759\n",
      "MT192759 |Severe acute respiratory syndrome coronavirus 2 isolate SARS-CoV-2/CGMH-CGU-01/human2020/TWN| complete genome|complete|Taiwan\n",
      "MT192765\n",
      "MT192765 |Severe acute respiratory syndrome coronavirus 2 isolate SARS-CoV-2/PC00101P/human/2020/USA| complete genome|complete|USA\n",
      "MT192772\n",
      "MT192772 |Severe acute respiratory syndrome coronavirus 2 isolate SARS-CoV-2/nCoV-19-01S/human/2020/VNM| complete genome|complete|Viet Nam\n",
      "MT192773\n",
      "MT192773 |Severe acute respiratory syndrome coronavirus 2 isolate SARS-CoV-2/nCoV-19-02S/human/2020/VNM| complete genome|complete|Viet Nam\n",
      "MT188341\n",
      "MT188341 |Severe acute respiratory syndrome coronavirus 2 isolate USA/MN1-MDH1/2020| complete genome|complete|USA\n",
      "MT188339\n",
      "MT188339 |Severe acute respiratory syndrome coronavirus 2 isolate USA/MN3-MDH3/2020| complete genome|complete|USA\n",
      "MT188340\n",
      "MT188340 |Severe acute respiratory syndrome coronavirus 2 isolate USA/MN2-MDH2/2020| complete genome|complete|USA\n",
      "MT184909\n",
      "MT184909 |Severe acute respiratory syndrome coronavirus 2 isolate 2019-nCoV/USA-CruiseA-22/2020| complete genome|complete|USA\n",
      "MT184908\n",
      "MT184908 |Severe acute respiratory syndrome coronavirus 2 isolate 2019-nCoV/USA-CruiseA-21/2020| complete genome|complete|USA\n",
      "MT184911\n",
      "MT184911 |Severe acute respiratory syndrome coronavirus 2 isolate 2019-nCoV/USA-CruiseA-24/2020| complete genome|complete|USA\n",
      "MT184913\n",
      "MT184913 |Severe acute respiratory syndrome coronavirus 2 isolate 2019-nCoV/USA-CruiseA-26/2020| complete genome|complete|USA\n",
      "MT184907\n",
      "MT184907 |Severe acute respiratory syndrome coronavirus 2 isolate 2019-nCoV/USA-CruiseA-19/2020| complete genome|complete|USA\n",
      "MT184912\n",
      "MT184912 |Severe acute respiratory syndrome coronavirus 2 isolate 2019-nCoV/USA-CruiseA-25/2020| complete genome|complete|USA\n",
      "MT184910\n",
      "MT184910 |Severe acute respiratory syndrome coronavirus 2 isolate 2019-nCoV/USA-CruiseA-23/2020| complete genome|complete|USA\n",
      "MT163718\n",
      "MT163718 |Severe acute respiratory syndrome coronavirus 2 isolate SARS-CoV-2/WA6-UW3/human/2020/USA| complete genome|complete|USA\n",
      "MT163719\n",
      "MT163719 |Severe acute respiratory syndrome coronavirus 2 isolate SARS-CoV-2/WA7-UW4/human/2020/USA| complete genome|complete|USA\n",
      "MT163716\n",
      "MT163716 |Severe acute respiratory syndrome coronavirus 2 isolate SARS-CoV-2/WA3-UW1/human/2020/USA| complete genome|complete|USA\n",
      "MT163717\n",
      "MT163717 |Severe acute respiratory syndrome coronavirus 2 isolate SARS-CoV-2/WA4-UW2/human/2020/USA| complete genome|complete|USA\n",
      "MT159714\n",
      "MT159714 |Severe acute respiratory syndrome coronavirus 2 isolate 2019-nCoV/USA-CruiseA-16/2020| complete genome|complete|USA\n",
      "MT159718\n",
      "MT159718 |Severe acute respiratory syndrome coronavirus 2 isolate 2019-nCoV/USA-CruiseA-2/2020| complete genome|complete|USA\n",
      "MT159717\n",
      "MT159717 |Severe acute respiratory syndrome coronavirus 2 isolate 2019-nCoV/USA-CruiseA-1/2020| complete genome|complete|USA\n",
      "MT159713\n",
      "MT159713 |Severe acute respiratory syndrome coronavirus 2 isolate 2019-nCoV/USA-CruiseA-15/2020| complete genome|complete|USA\n",
      "MT159720\n",
      "MT159720 |Severe acute respiratory syndrome coronavirus 2 isolate 2019-nCoV/USA-CruiseA-4/2020| complete genome|complete|USA\n",
      "MT159721\n",
      "MT159721 |Severe acute respiratory syndrome coronavirus 2 isolate 2019-nCoV/USA-CruiseA-5/2020| complete genome|complete|USA\n",
      "MT159709\n",
      "MT159709 |Severe acute respiratory syndrome coronavirus 2 isolate 2019-nCoV/USA-CruiseA-12/2020| complete genome|complete|USA\n",
      "MT121215\n",
      "MT121215 |Severe acute respiratory syndrome coronavirus 2 isolate SARS-CoV-2/SH01/human/2020/CHN| complete genome|complete|China\n",
      "MT159708\n",
      "MT159708 |Severe acute respiratory syndrome coronavirus 2 isolate 2019-nCoV/USA-CruiseA-11/2020| complete genome|complete|USA\n",
      "MT159712\n",
      "MT159712 |Severe acute respiratory syndrome coronavirus 2 isolate 2019-nCoV/USA-CruiseA-14/2020| complete genome|complete|USA\n",
      "MT159719\n",
      "MT159719 |Severe acute respiratory syndrome coronavirus 2 isolate 2019-nCoV/USA-CruiseA-3/2020| complete genome|complete|USA\n",
      "MT066156\n",
      "MT066156 |Severe acute respiratory syndrome coronavirus 2 isolate SARS-CoV-2/INMI1/human/2020/ITA| complete genome|complete|Italy\n",
      "MT159711\n",
      "MT159711 |Severe acute respiratory syndrome coronavirus 2 isolate 2019-nCoV/USA-CruiseA-13/2020| complete genome|complete|USA\n",
      "MT159707\n",
      "MT159707 |Severe acute respiratory syndrome coronavirus 2 isolate 2019-nCoV/USA-CruiseA-10/2020| complete genome|complete|USA\n",
      "MT159705\n",
      "MT159705 |Severe acute respiratory syndrome coronavirus 2 isolate 2019-nCoV/USA-CruiseA-7/2020| complete genome|complete|USA\n",
      "MT159710\n",
      "MT159710 |Severe acute respiratory syndrome coronavirus 2 isolate 2019-nCoV/USA-CruiseA-9/2020| complete genome|complete|USA\n",
      "MT159715\n",
      "MT159715 |Severe acute respiratory syndrome coronavirus 2 isolate 2019-nCoV/USA-CruiseA-17/2020| complete genome|complete|USA\n",
      "MT159716\n",
      "MT159716 |Severe acute respiratory syndrome coronavirus 2 isolate 2019-nCoV/USA-CruiseA-18/2020| complete genome|complete|USA\n",
      "MT159722\n",
      "MT159722 |Severe acute respiratory syndrome coronavirus 2 isolate 2019-nCoV/USA-CruiseA-6/2020| complete genome|complete|USA\n",
      "MT159706\n",
      "MT159706 |Severe acute respiratory syndrome coronavirus 2 isolate 2019-nCoV/USA-CruiseA-8/2020| complete genome|complete|USA\n",
      "MT012098\n",
      "MT012098 |Severe acute respiratory syndrome coronavirus 2 isolate SARS-CoV-2/29/human/2020/IND| complete genome|complete|India\n",
      "MT050493\n",
      "MT050493 |Severe acute respiratory syndrome coronavirus 2 isolate SARS-CoV-2/166/human/2020/IND| complete genome|complete|India\n",
      "MT152824\n",
      "MT152824 |Severe acute respiratory syndrome coronavirus 2 isolate SARS-CoV-2/WA2/human/2020/USA| complete genome|complete|USA\n",
      "MT135041\n",
      "MT135041 |Severe acute respiratory syndrome coronavirus 2 isolate SARS-CoV-2/105/human/2020/CHN| complete genome|complete|China\n",
      "MT135043\n",
      "MT135043 |Severe acute respiratory syndrome coronavirus 2 isolate SARS-CoV-2/233/human/2020/CHN| complete genome|complete|China\n",
      "MT135044\n",
      "MT135044 |Severe acute respiratory syndrome coronavirus 2 isolate SARS-CoV-2/235/human/2020/CHN| complete genome|complete|China\n",
      "MT135042\n",
      "MT135042 |Severe acute respiratory syndrome coronavirus 2 isolate SARS-CoV-2/231/human/2020/CHN| complete genome|complete|China\n",
      "MT126808\n",
      "MT126808 |Severe acute respiratory syndrome coronavirus 2 isolate SARS-CoV-2/SP02/human/2020/BRA| complete genome|complete|Brazil\n",
      "MT123290\n",
      "MT123290 |Severe acute respiratory syndrome coronavirus 2 isolate SARS-CoV-2/IQTC01/human/2020/CHN| complete genome|complete|China\n",
      "MT123293\n",
      "MT123293 |Severe acute respiratory syndrome coronavirus 2 isolate SARS-CoV-2/IQTC03/human/2020/CHN| complete genome|complete|China\n",
      "MT123292\n",
      "MT123292 |Severe acute respiratory syndrome coronavirus 2 isolate SARS-CoV-2/IQTC04/human/2020/CHN| complete genome|complete|China\n",
      "MT123291\n",
      "MT123291 |Severe acute respiratory syndrome coronavirus 2 isolate SARS-CoV-2/IQTC02/human/2020/CHN| complete genome|complete|China\n",
      "MT118835\n",
      "MT118835 |Severe acute respiratory syndrome coronavirus 2 isolate 2019-nCoV/USA-CA9/2020| complete genome|complete|USA\n",
      "MT106054\n",
      "MT106054 |Severe acute respiratory syndrome coronavirus 2 isolate 2019-nCoV/USA-TX1/2020| complete genome|complete|USA\n",
      "MT106053\n",
      "MT106053 |Severe acute respiratory syndrome coronavirus 2 isolate 2019-nCoV/USA-CA8/2020| complete genome|complete|USA\n",
      "MT106052\n",
      "MT106052 |Severe acute respiratory syndrome coronavirus 2 isolate 2019-nCoV/USA-CA7/2020| complete genome|complete|USA\n",
      "MT093571\n",
      "MT093571 |Severe acute respiratory syndrome coronavirus 2 isolate SARS-CoV-2/01/human/2020/SWE| complete genome|complete|Sweden\n",
      "MT093631\n",
      "MT093631 |Severe acute respiratory syndrome coronavirus 2 isolate SARS-CoV-2/WH-09/human/2020/CHN| complete genome|complete|China\n",
      "MT072688\n",
      "MT072688 |Severe acute respiratory syndrome coronavirus 2 isolate SARS0CoV-2/61-TW/human/2020/ NPL| complete genome|complete|Nepal\n",
      "MT066175\n",
      "MT066175 |Severe acute respiratory syndrome coronavirus 2 isolate SARS-CoV-2/NTU01/2020/TWN| complete genome|complete|Taiwan\n",
      "MT066176\n",
      "MT066176 |Severe acute respiratory syndrome coronavirus 2 isolate SARS-CoV-2/NTU02/2020/TWN| complete genome|complete|Taiwan\n",
      "MT049951\n",
      "MT049951 |Severe acute respiratory syndrome coronavirus 2 isolate SARS-CoV-2/Yunnan-01/human/2020/CHN| complete genome|complete|China\n",
      "MT044257\n",
      "MT044257 |Severe acute respiratory syndrome coronavirus 2 isolate 2019-nCoV/USA-IL2/2020| complete genome|complete|USA\n",
      "MT044258\n",
      "MT044258 |Severe acute respiratory syndrome coronavirus 2 isolate 2019-nCoV/USA-CA6/2020| complete genome|complete|USA\n",
      "MT039888\n",
      "MT039888 |Severe acute respiratory syndrome coronavirus 2 isolate 2019-nCoV/USA-MA1/2020| complete genome|complete|USA\n",
      "MT039890\n",
      "MT039890 |Severe acute respiratory syndrome coronavirus 2 isolate SNU01| complete genome|complete|South Korea\n",
      "MT039887\n",
      "MT039887 |Severe acute respiratory syndrome coronavirus 2 isolate 2019-nCoV/USA-WI1/2020| complete genome|complete|USA\n",
      "MT039873\n",
      "MT039873 |Severe acute respiratory syndrome coronavirus 2 isolate HZ-1| complete genome|complete|China\n",
      "MT027063\n",
      "MT027063 |Severe acute respiratory syndrome coronavirus 2 isolate 2019-nCoV/USA-CA4/2020| complete genome|complete|USA\n",
      "MT027062\n",
      "MT027062 |Severe acute respiratory syndrome coronavirus 2 isolate 2019-nCoV/USA-CA3/2020| complete genome|complete|USA\n",
      "MT027064\n",
      "MT027064 |Severe acute respiratory syndrome coronavirus 2 isolate 2019-nCoV/USA-CA5/2020| complete genome|complete|USA\n",
      "MT020880\n",
      "MT020880 |Severe acute respiratory syndrome coronavirus 2 isolate 2019-nCoV/USA-WA1-A12/2020| complete genome|complete|USA\n",
      "MT019531\n",
      "MT019531 |Severe acute respiratory syndrome coronavirus 2 isolate BetaCoV/Wuhan/IPBCAMS-WH-03/2019| complete genome|complete|China\n",
      "MT019530\n",
      "MT019530 |Severe acute respiratory syndrome coronavirus 2 isolate BetaCoV/Wuhan/IPBCAMS-WH-02/2019| complete genome|complete|China\n",
      "MT019529\n",
      "MT019529 |Severe acute respiratory syndrome coronavirus 2 isolate BetaCoV/Wuhan/IPBCAMS-WH-01/2019| complete genome|complete|China\n",
      "MT019533\n",
      "MT019533 |Severe acute respiratory syndrome coronavirus 2 isolate BetaCoV/Wuhan/IPBCAMS-WH-05/2020| complete genome|complete|China\n",
      "MT019532\n",
      "MT019532 |Severe acute respiratory syndrome coronavirus 2 isolate BetaCoV/Wuhan/IPBCAMS-WH-04/2019| complete genome|complete|China\n",
      "MT020881\n",
      "MT020881 |Severe acute respiratory syndrome coronavirus 2 isolate 2019-nCoV/USA-WA1-F6/2020| complete genome|complete|USA\n",
      "MT007544\n",
      "MT007544 |Severe acute respiratory syndrome coronavirus 2 isolate Australia/VIC01/2020| complete genome|complete|Australia\n",
      "MN996528\n",
      "MN996528 |Severe acute respiratory syndrome coronavirus 2 isolate WIV04| complete genome|complete|China\n",
      "MN996529\n",
      "MN996529 |Severe acute respiratory syndrome coronavirus 2 isolate WIV05| complete genome|complete|China\n",
      "MN996530\n",
      "MN996530 |Severe acute respiratory syndrome coronavirus 2 isolate WIV06| complete genome|complete|China\n",
      "MN996527\n",
      "MN996527 |Severe acute respiratory syndrome coronavirus 2 isolate WIV02| complete genome|complete|China\n",
      "MN996531\n",
      "MN996531 |Severe acute respiratory syndrome coronavirus 2 isolate WIV07| complete genome|complete|China\n",
      "MN994467\n",
      "MN994467 |Severe acute respiratory syndrome coronavirus 2 isolate 2019-nCoV/USA-CA1/2020| complete genome|complete|USA\n",
      "MN994468\n",
      "MN994468 |Severe acute respiratory syndrome coronavirus 2 isolate 2019-nCoV/USA-CA2/2020| complete genome|complete|USA\n",
      "MN988668\n",
      "MN988668 |Severe acute respiratory syndrome coronavirus 2 isolate 2019-nCoV WHU01| complete genome|complete|China\n",
      "MN988669\n",
      "MN988669 |Severe acute respiratory syndrome coronavirus 2 isolate 2019-nCoV WHU02| complete genome|complete|China\n",
      "MN997409\n",
      "MN997409 |Severe acute respiratory syndrome coronavirus 2 isolate 2019-nCoV/USA-AZ1/2020| complete genome|complete|USA\n",
      "MN988713\n",
      "MN988713 |Severe acute respiratory syndrome coronavirus 2 isolate 2019-nCoV/USA-IL1/2020| complete genome|complete|USA\n",
      "MN975262\n",
      "MN975262 |Severe acute respiratory syndrome coronavirus 2 isolate 2019-nCoV_HKU-SZ-005b_2020| complete genome|complete|China\n",
      "MN938384\n",
      "MN938384 |Severe acute respiratory syndrome coronavirus 2 isolate 2019-nCoV_HKU-SZ-002a_2020| complete genome|complete|China\n",
      "MN985325\n",
      "MN985325 |Severe acute respiratory syndrome coronavirus 2 isolate 2019-nCoV/USA-WA1/2020| complete genome|complete|USA\n",
      "MN908947\n",
      "MN908947 |Severe acute respiratory syndrome coronavirus 2 isolate Wuhan-Hu-1| complete genome|complete|China\n"
     ]
    }
   ],
   "source": [
    "for seq in fa:\n",
    "    print(seq.name)\n",
    "    #print(seq.seq)\n",
    "    print(seq.description)"
   ]
  },
  {
   "cell_type": "code",
   "execution_count": 9,
   "metadata": {},
   "outputs": [
    {
     "data": {
      "text/plain": [
       "92"
      ]
     },
     "execution_count": 9,
     "metadata": {},
     "output_type": "execute_result"
    }
   ],
   "source": [
    "# get sequence counts in FASTA\n",
    "len(fa)"
   ]
  },
  {
   "cell_type": "code",
   "execution_count": 10,
   "metadata": {},
   "outputs": [
    {
     "data": {
      "text/plain": [
       "2748836"
      ]
     },
     "execution_count": 10,
     "metadata": {},
     "output_type": "execute_result"
    }
   ],
   "source": [
    "# get total sequence length of FASTA\n",
    "fa.size"
   ]
  },
  {
   "cell_type": "code",
   "execution_count": 11,
   "metadata": {},
   "outputs": [
    {
     "data": {
      "text/plain": [
       "37.993831634521484"
      ]
     },
     "execution_count": 11,
     "metadata": {},
     "output_type": "execute_result"
    }
   ],
   "source": [
    "# get GC content of DNA sequence of FASTA\n",
    "fa.gc_content"
   ]
  },
  {
   "cell_type": "code",
   "execution_count": 12,
   "metadata": {},
   "outputs": [
    {
     "data": {
      "text/plain": [
       "0.03273428604006767"
      ]
     },
     "execution_count": 12,
     "metadata": {},
     "output_type": "execute_result"
    }
   ],
   "source": [
    "# get GC skew of DNA sequences in FASTA\n",
    "fa.gc_skew"
   ]
  },
  {
   "cell_type": "code",
   "execution_count": 13,
   "metadata": {},
   "outputs": [
    {
     "data": {
      "text/plain": [
       "{'A': 821892,\n",
       " 'C': 505096,\n",
       " 'G': 539283,\n",
       " 'K': 1,\n",
       " 'N': 1,\n",
       " 'R': 1,\n",
       " 'S': 3,\n",
       " 'T': 882541,\n",
       " 'W': 3,\n",
       " 'Y': 15}"
      ]
     },
     "execution_count": 13,
     "metadata": {},
     "output_type": "execute_result"
    }
   ],
   "source": [
    "# get composition of nucleotides in FASTA\n",
    "fa.composition"
   ]
  },
  {
   "cell_type": "code",
   "execution_count": 14,
   "metadata": {},
   "outputs": [
    {
     "data": {
      "text/plain": [
       "'DNA'"
      ]
     },
     "execution_count": 14,
     "metadata": {},
     "output_type": "execute_result"
    }
   ],
   "source": [
    "# get fasta type (DNA, RNA, or protein)\n",
    "fa.type"
   ]
  },
  {
   "cell_type": "code",
   "execution_count": 15,
   "metadata": {},
   "outputs": [
    {
     "name": "stdout",
     "output_type": "stream",
     "text": [
      "MT121215\n",
      "29945\n"
     ]
    }
   ],
   "source": [
    "# get longest sequence\n",
    "long_seq = fa.longest\n",
    "print(long_seq.name)\n",
    "print (len(long_seq))"
   ]
  },
  {
   "cell_type": "code",
   "execution_count": 16,
   "metadata": {},
   "outputs": [
    {
     "name": "stdout",
     "output_type": "stream",
     "text": [
      "MT188339\n",
      "29783\n"
     ]
    }
   ],
   "source": [
    "# get shortest sequence\n",
    "short_seq = fa.shortest\n",
    "print(short_seq.name)\n",
    "print (len(short_seq))"
   ]
  },
  {
   "cell_type": "markdown",
   "metadata": {},
   "source": [
    "### Calculate N50 and L50\n",
    "\n",
    "\n",
    "Find parameters explanation [here](https://www.molecularecologist.com/2017/03/whats-n50/)\n",
    "\n",
    "PT: \n",
    "<br /> --> N50: medida estatística muito utilizada para avaliar a quantidade de montagem,pois revela o quanto de um genoma é coberto por contigs grandes.\n",
    "    **N50 = n**, onde **n** significa que 50% dos reads estão montados em um contig de tamanho n ou maior.\n",
    "  \n",
    " --> Contig: sequências maiores de DNA que são montadas por meio de sobreposição de reads\n",
    "\n",
    "\n",
    "EN:\n",
    "<br /> --> Contig: is a set of overlapping DNA segments that together represent a consensus region of DNA\n"
   ]
  },
  {
   "cell_type": "code",
   "execution_count": 17,
   "metadata": {},
   "outputs": [
    {
     "data": {
      "text/plain": [
       "(29882, 46)"
      ]
     },
     "execution_count": 17,
     "metadata": {},
     "output_type": "execute_result"
    }
   ],
   "source": [
    "# get FASTA N50 and L50\n",
    "fa.nl(50)"
   ]
  },
  {
   "cell_type": "code",
   "execution_count": 18,
   "metadata": {},
   "outputs": [
    {
     "data": {
      "text/plain": [
       "(29852, 83)"
      ]
     },
     "execution_count": 18,
     "metadata": {},
     "output_type": "execute_result"
    }
   ],
   "source": [
    "# get FASTA N90 and L90\n",
    "fa.nl(90)"
   ]
  },
  {
   "cell_type": "code",
   "execution_count": 19,
   "metadata": {},
   "outputs": [
    {
     "data": {
      "text/plain": [
       "(29879, 69)"
      ]
     },
     "execution_count": 19,
     "metadata": {},
     "output_type": "execute_result"
    }
   ],
   "source": [
    "# get FASTA N75 and L75\n",
    "fa.nl(75)"
   ]
  },
  {
   "cell_type": "markdown",
   "metadata": {},
   "source": [
    "### Get sequence mean and median length"
   ]
  },
  {
   "cell_type": "code",
   "execution_count": 20,
   "metadata": {},
   "outputs": [
    {
     "data": {
      "text/plain": [
       "29878.652173913044"
      ]
     },
     "execution_count": 20,
     "metadata": {},
     "output_type": "execute_result"
    }
   ],
   "source": [
    "# get sequence average length\n",
    "fa.mean"
   ]
  },
  {
   "cell_type": "code",
   "execution_count": 21,
   "metadata": {},
   "outputs": [
    {
     "data": {
      "text/plain": [
       "29882.0"
      ]
     },
     "execution_count": 21,
     "metadata": {},
     "output_type": "execute_result"
    }
   ],
   "source": [
    "# get seqeunce median length\n",
    "fa.median"
   ]
  },
  {
   "cell_type": "markdown",
   "metadata": {},
   "source": [
    "### Get sequence counts"
   ]
  },
  {
   "cell_type": "code",
   "execution_count": 22,
   "metadata": {},
   "outputs": [
    {
     "data": {
      "text/plain": [
       "92"
      ]
     },
     "execution_count": 22,
     "metadata": {},
     "output_type": "execute_result"
    }
   ],
   "source": [
    "# get counts of sequences with length >= 200 bp\n",
    "fa.count(200)"
   ]
  },
  {
   "cell_type": "code",
   "execution_count": 23,
   "metadata": {},
   "outputs": [
    {
     "data": {
      "text/plain": [
       "92"
      ]
     },
     "execution_count": 23,
     "metadata": {},
     "output_type": "execute_result"
    }
   ],
   "source": [
    "# get counts of sequences with length >= 500 bp\n",
    "fa.count(500)"
   ]
  },
  {
   "cell_type": "code",
   "execution_count": 24,
   "metadata": {},
   "outputs": [
    {
     "data": {
      "text/plain": [
       "12"
      ]
     },
     "execution_count": 24,
     "metadata": {},
     "output_type": "execute_result"
    }
   ],
   "source": [
    "# get counts of sequences with length >= 29900 bp\n",
    "fa.count(29900)"
   ]
  },
  {
   "cell_type": "markdown",
   "metadata": {},
   "source": [
    "### Getting subsequences"
   ]
  },
  {
   "cell_type": "code",
   "execution_count": 25,
   "metadata": {},
   "outputs": [
    {
     "data": {
      "text/plain": [
       "'ATTAAAGGTT'"
      ]
     },
     "execution_count": 25,
     "metadata": {},
     "output_type": "execute_result"
    }
   ],
   "source": [
    "# get subsequence with start and end position\n",
    "interval = (1, 10)\n",
    "fa.fetch('MT121215', interval)  #MT121215 is the longest sequence"
   ]
  },
  {
   "cell_type": "code",
   "execution_count": 26,
   "metadata": {},
   "outputs": [
    {
     "data": {
      "text/plain": [
       "'ATTAAAGGTTCTTGTAGATCT'"
      ]
     },
     "execution_count": 26,
     "metadata": {},
     "output_type": "execute_result"
    }
   ],
   "source": [
    "# get subsequences with a list of start and end position\n",
    "intervals = [(1, 10), (50, 60)]\n",
    "fa.fetch('MT121215', intervals) #MT121215 is the longest sequence"
   ]
  },
  {
   "cell_type": "code",
   "execution_count": 27,
   "metadata": {},
   "outputs": [
    {
     "data": {
      "text/plain": [
       "'AACCTTTAAT'"
      ]
     },
     "execution_count": 27,
     "metadata": {},
     "output_type": "execute_result"
    }
   ],
   "source": [
    "# get subsequences with reverse strand\n",
    "fa.fetch('MT121215', (1, 10), strand='-') #MT121215 is the longest sequence"
   ]
  },
  {
   "cell_type": "markdown",
   "metadata": {},
   "source": [
    "### Analysing sequences data"
   ]
  },
  {
   "cell_type": "code",
   "execution_count": 28,
   "metadata": {},
   "outputs": [
    {
     "data": {
      "text/plain": [
       "<Sequence> MT188339 with length of 29783"
      ]
     },
     "execution_count": 28,
     "metadata": {},
     "output_type": "execute_result"
    }
   ],
   "source": [
    "# get sequence like a dictionary by identifier\n",
    "fa['MT188339']   #MT188339 is the shortest sequence"
   ]
  },
  {
   "cell_type": "code",
   "execution_count": 29,
   "metadata": {},
   "outputs": [
    {
     "data": {
      "text/plain": [
       "<Sequence> MT192772 with length of 29891"
      ]
     },
     "execution_count": 29,
     "metadata": {},
     "output_type": "execute_result"
    }
   ],
   "source": [
    "# get sequence like a list by index\n",
    "fa[2]"
   ]
  },
  {
   "cell_type": "code",
   "execution_count": 30,
   "metadata": {},
   "outputs": [
    {
     "data": {
      "text/plain": [
       "<Sequence> MN908947 with length of 29903"
      ]
     },
     "execution_count": 30,
     "metadata": {},
     "output_type": "execute_result"
    }
   ],
   "source": [
    "# get last sequence\n",
    "fa[-1]"
   ]
  },
  {
   "cell_type": "code",
   "execution_count": 31,
   "metadata": {},
   "outputs": [
    {
     "data": {
      "text/plain": [
       "True"
      ]
     },
     "execution_count": 31,
     "metadata": {},
     "output_type": "execute_result"
    }
   ],
   "source": [
    "# check a sequence name weather in FASTA file\n",
    "'MT188339' in fa"
   ]
  },
  {
   "cell_type": "markdown",
   "metadata": {},
   "source": [
    "### Alignment of sequences"
   ]
  },
  {
   "cell_type": "code",
   "execution_count": 32,
   "metadata": {},
   "outputs": [
    {
     "name": "stdout",
     "output_type": "stream",
     "text": [
      "29903\n",
      "29876\n",
      "29783\n"
     ]
    }
   ],
   "source": [
    "# checking len of sequences\n",
    "print(len(fa['MT039890'])) #Wuhan-Hu-1 ref sample\n",
    "print(len(fa['MT126808'])) #Brazil\n",
    "print(len(fa['MT188339'])) #USA shortest"
   ]
  },
  {
   "cell_type": "code",
   "execution_count": 33,
   "metadata": {},
   "outputs": [],
   "source": [
    "# converting sequences to string data\n",
    "seq_ref = ''.join(map(str, fa['MT039890'])) \n",
    "seq_br = ''.join(map(str, fa['MT126808']))\n",
    "seq_vietnam = ''.join(map(str, fa['MT192773']))\n",
    "seq_usa = ''.join(map(str, fa['MT159707']))"
   ]
  },
  {
   "cell_type": "code",
   "execution_count": 34,
   "metadata": {},
   "outputs": [
    {
     "name": "stdout",
     "output_type": "stream",
     "text": [
      "ATTAAAGGTT...\n",
      "ATTAAAGGTT...\n",
      "Score: 32767\n",
      "Length: 16399\n",
      "ATTAAAGGTT...\n",
      "ATTAAAGGTT...\n",
      "Score: 32767\n",
      "Length: 16402\n",
      "ATTAAAGGTT...\n",
      "ATTAAAGGTT...\n",
      "Score: 32767\n",
      "Length: 16396\n"
     ]
    }
   ],
   "source": [
    "# alignment with StripedSmithWaterman algorithm\n",
    "from skbio.alignment import StripedSmithWaterman\n",
    "alignments = []\n",
    "target_sequences = [seq_br, \n",
    "                    seq_vietnam, \n",
    "                    seq_usa]\n",
    "query_sequence = seq_ref\n",
    "query = StripedSmithWaterman(query_sequence)\n",
    "for target_sequence in target_sequences:\n",
    "    alignment = query(target_sequence)\n",
    "    alignments.append(alignment)\n",
    "\n",
    "print(alignments[0])\n",
    "print(alignments[1])\n",
    "print(alignments[2])"
   ]
  },
  {
   "cell_type": "markdown",
   "metadata": {},
   "source": [
    "### Plotting sequences\n",
    "\n",
    "Note===it should be improved!!!"
   ]
  },
  {
   "cell_type": "code",
   "execution_count": 36,
   "metadata": {},
   "outputs": [],
   "source": [
    "from dna_features_viewer import GraphicFeature, GraphicRecord"
   ]
  },
  {
   "cell_type": "code",
   "execution_count": 39,
   "metadata": {},
   "outputs": [],
   "source": [
    "from reportlab.lib import colors\n",
    "from reportlab.lib.units import cm\n",
    "from Bio.Graphics import GenomeDiagram\n",
    "from Bio import SeqIO\n"
   ]
  },
  {
   "cell_type": "code",
   "execution_count": 55,
   "metadata": {},
   "outputs": [],
   "source": [
    "record = seq_br"
   ]
  },
  {
   "cell_type": "code",
   "execution_count": 56,
   "metadata": {},
   "outputs": [],
   "source": [
    "gd_diagram = GenomeDiagram.Diagram(\"n-covid\")\n",
    "gd_track_for_features = gd_diagram.new_track(1, name=\"brazil\")\n",
    "gd_feature_set = gd_track_for_features.new_set()\n"
   ]
  },
  {
   "cell_type": "code",
   "execution_count": 57,
   "metadata": {},
   "outputs": [],
   "source": [
    "gd_diagram.draw(\n",
    "    format=\"linear\",\n",
    "    orientation=\"landscape\",\n",
    "    pagesize=\"A4\",\n",
    "    fragments=4,\n",
    "    start=0,\n",
    "    end=len(record),\n",
    ")\n",
    "gd_diagram.write(\"plasmid_linear.pdf\", \"PDF\")\n",
    "gd_diagram.write(\"plasmid_linear.eps\", \"EPS\")\n",
    "gd_diagram.write(\"plasmid_linear.svg\", \"SVG\")"
   ]
  },
  {
   "cell_type": "code",
   "execution_count": 61,
   "metadata": {},
   "outputs": [],
   "source": [
    "gd_diagram.write(\"plasmid_linear.png\", \"PNG\")"
   ]
  },
  {
   "cell_type": "code",
   "execution_count": null,
   "metadata": {},
   "outputs": [],
   "source": [
    "\n"
   ]
  },
  {
   "cell_type": "code",
   "execution_count": null,
   "metadata": {},
   "outputs": [],
   "source": []
  },
  {
   "cell_type": "code",
   "execution_count": null,
   "metadata": {},
   "outputs": [],
   "source": []
  }
 ],
 "metadata": {
  "kernelspec": {
   "display_name": "venv",
   "language": "python",
   "name": "venv"
  },
  "language_info": {
   "codemirror_mode": {
    "name": "ipython",
    "version": 3
   },
   "file_extension": ".py",
   "mimetype": "text/x-python",
   "name": "python",
   "nbconvert_exporter": "python",
   "pygments_lexer": "ipython3",
   "version": "3.6.8"
  }
 },
 "nbformat": 4,
 "nbformat_minor": 2
}
