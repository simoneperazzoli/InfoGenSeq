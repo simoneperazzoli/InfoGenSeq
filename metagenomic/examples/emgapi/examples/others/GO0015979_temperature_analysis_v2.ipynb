{
 "cells": [
  {
   "cell_type": "code",
   "execution_count": null,
   "metadata": {
    "collapsed": true
   },
   "outputs": [],
   "source": [
    "import csv\n",
    "try:\n",
    "    from urllib import urlencode\n",
    "except ImportError:\n",
    "    from urllib.parse import urlencode\n",
    "from pandas import DataFrame\n",
    "import matplotlib.pyplot as plt\n",
    "import numpy as np"
   ]
  },
  {
   "cell_type": "code",
   "execution_count": null,
   "metadata": {
    "collapsed": true
   },
   "outputs": [],
   "source": [
    "from jsonapi_client import Session, Filter\n",
    "\n",
    "API_BASE = 'https://wwwdev.ebi.ac.uk/metagenomics/api/v0.2/'"
   ]
  },
  {
   "cell_type": "markdown",
   "metadata": {},
   "source": [
    "List all runs\n",
    "https://wwwdev.ebi.ac.uk/metagenomics/api/v0.2/annotations/go-terms/GO:0015979/analysis?experiment_type=metagenomic&pipeline_version=2&metadata_key=temperature"
   ]
  },
  {
   "cell_type": "code",
   "execution_count": null,
   "metadata": {},
   "outputs": [],
   "source": [
    "def find_metadata(metadata):\n",
    "    \"\"\"\n",
    "    Extract metadata value for given key\n",
    "    \"\"\"\n",
    "    t = None\n",
    "    d = None\n",
    "    for m in metadata:\n",
    "        if 'temperature' in m.var_name.lower():\n",
    "            t = m.var_value\n",
    "        if 'depth' in m.var_name.lower():\n",
    "            d = m.var_value\n",
    "        if t is not None and d is not None:\n",
    "            return (t, d)\n",
    "    return (t, d)\n",
    "\n",
    "def find_norm(metadata):\n",
    "    \"\"\"\n",
    "    Extract metadata value for given key\n",
    "    \"\"\"\n",
    "    for m in metadata:\n",
    "        if 'Predicted CDS with InterProScan match'.lower() == m.var_name.lower():\n",
    "            return m.var_value\n",
    "    return None\n",
    "\n",
    "\n",
    "\n",
    "normilize_key = 'Predicted CDS with InterProScan match'\n",
    "\n",
    "# map GO terms to the temperature\n",
    "result = {}\n",
    "\n",
    "with open(\"GO_0015979.csv\", \"w\") as csvfile:\n",
    "    fieldnames = [\n",
    "        'run', 'pipeline', 'sample', 'sample_name', 'study', 'biome',\n",
    "        'longitude', 'latitude', 'temperature', 'depth', 'go', 'count', 'pcds'\n",
    "    ]\n",
    "    writer = csv.DictWriter(csvfile, fieldnames=fieldnames)\n",
    "    writer.writeheader()\n",
    "    with Session(API_BASE) as s:\n",
    "\n",
    "        # temporary dict to store accession and metadata\n",
    "        metadata_map = {}\n",
    "        # list of runs missing metadata\n",
    "        missing_meta = list()\n",
    "\n",
    "        print('Loading data from API.', end='', flush=True)\n",
    "\n",
    "        # preparing url\n",
    "        params = {\n",
    "            'experiment_type': 'metagenomic',\n",
    "            'pipeline_version': 2,\n",
    "            'metadata_key': 'temperature',\n",
    "            'page_size': 100\n",
    "        }\n",
    "        f = Filter(urlencode(params))\n",
    "        # list runs\n",
    "        for anls in s.iterate('annotations/go-terms/GO:0015979/analysis', f):\n",
    "            print('.', end='', flush=True)\n",
    "            # find temperature for each run\n",
    "            _t, _d = find_metadata(anls.sample.metadata)\n",
    "            _pcds = int(find_norm(anls.metadata))\n",
    "\n",
    "            # list a summary of GO terms derived from InterPro matches\n",
    "            rt = \"runs/%s/pipelines/%s/go-slim\" % (anls.accession, anls.pipeline_version)\n",
    "            af = Filter(urlencode({'page_size': 100}))\n",
    "            for ann in s.iterate(rt, af):\n",
    "                if ann.accession == 'GO:0015979':\n",
    "                    sample = anls.sample\n",
    "                    biome = sample.biome\n",
    "                    row = {\n",
    "                        'run': anls.accession,\n",
    "                        'pipeline': anls.pipeline_version,\n",
    "                        'sample': sample.accession,\n",
    "                        'sample_name': sample.sample_name,\n",
    "                        'study': anls.study_accession,\n",
    "                        'biome': biome.lineage,\n",
    "                        'longitude': sample.longitude,\n",
    "                        'latitude': sample.latitude,\n",
    "                        'temperature': _t,\n",
    "                        'depth': _d,\n",
    "                        'go': ann.accession,\n",
    "                        'count': ann.count,\n",
    "                        'pcds': _pcds,\n",
    "                    }\n",
    "                    writer.writerow(row)\n",
    "                    continue\n",
    "\n",
    "\n",
    "        print(\"DONE\")\n",
    "        print(\"Missing: \", missing_meta)"
   ]
  },
  {
   "cell_type": "code",
   "execution_count": null,
   "metadata": {
    "collapsed": true
   },
   "outputs": [],
   "source": []
  }
 ],
 "metadata": {
  "kernelspec": {
   "display_name": "Python 3",
   "language": "python",
   "name": "python3"
  },
  "language_info": {
   "codemirror_mode": {
    "name": "ipython",
    "version": 3
   },
   "file_extension": ".py",
   "mimetype": "text/x-python",
   "name": "python",
   "nbconvert_exporter": "python",
   "pygments_lexer": "ipython3",
   "version": "3.6.2"
  }
 },
 "nbformat": 4,
 "nbformat_minor": 2
}
